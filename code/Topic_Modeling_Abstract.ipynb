{
 "cells": [
  {
   "cell_type": "markdown",
   "id": "54c06566",
   "metadata": {},
   "source": [
    "# Project Galilei\n",
    "### \"Measure what is measurable, and make measurable what is not so.\""
   ]
  },
  {
   "cell_type": "markdown",
   "id": "c8b8391a",
   "metadata": {},
   "source": [
    "## Topic Modeling Abstract"
   ]
  },
  {
   "cell_type": "markdown",
   "id": "09c2ba2c",
   "metadata": {},
   "source": [
    "    imports"
   ]
  },
  {
   "cell_type": "code",
   "execution_count": 1,
   "id": "3fb92703",
   "metadata": {},
   "outputs": [],
   "source": [
    "import pickle\n",
    "\n",
    "import numpy as np\n",
    "import pandas as pd\n",
    "\n",
    "import matplotlib.pyplot as plt\n",
    "\n",
    "import re\n",
    "\n",
    "import missingno as msno\n",
    "\n",
    "# https://course.spacy.io/en/\n",
    "from nltk.corpus import stopwords\n",
    "import spacy\n",
    "from spacy.lang import en\n",
    "from spacy import load, displacy\n",
    "\n",
    "import gensim\n",
    "from gensim.utils import simple_preprocess\n",
    "from gensim.parsing.preprocessing import preprocess_documents\n",
    "from gensim.models import CoherenceModel, Doc2Vec, LdaModel\n",
    "import pyLDAvis\n",
    "import pyLDAvis.gensim_models\n",
    "\n",
    "from modules.preprocessing import free_form_preprocessor, free_form_counter, lemmings\n",
    "\n",
    "from sklearn.feature_extraction.text import CountVectorizer, TfidfTransformer"
   ]
  },
  {
   "cell_type": "markdown",
   "id": "99114157",
   "metadata": {},
   "source": [
    "    read"
   ]
  },
  {
   "cell_type": "code",
   "execution_count": 2,
   "id": "10a2fc08",
   "metadata": {},
   "outputs": [],
   "source": [
    "arxiv_meta = pd.read_json(\"../data/raw/arxiv-metadata-oai-snapshot.json\", lines=True, nrows=10000)"
   ]
  },
  {
   "cell_type": "code",
   "execution_count": 3,
   "id": "4902e41e",
   "metadata": {},
   "outputs": [
    {
     "data": {
      "text/html": [
       "<div>\n",
       "<style scoped>\n",
       "    .dataframe tbody tr th:only-of-type {\n",
       "        vertical-align: middle;\n",
       "    }\n",
       "\n",
       "    .dataframe tbody tr th {\n",
       "        vertical-align: top;\n",
       "    }\n",
       "\n",
       "    .dataframe thead th {\n",
       "        text-align: right;\n",
       "    }\n",
       "</style>\n",
       "<table border=\"1\" class=\"dataframe\">\n",
       "  <thead>\n",
       "    <tr style=\"text-align: right;\">\n",
       "      <th></th>\n",
       "      <th>id</th>\n",
       "      <th>submitter</th>\n",
       "      <th>authors</th>\n",
       "      <th>title</th>\n",
       "      <th>comments</th>\n",
       "      <th>journal-ref</th>\n",
       "      <th>doi</th>\n",
       "      <th>report-no</th>\n",
       "      <th>categories</th>\n",
       "      <th>license</th>\n",
       "      <th>abstract</th>\n",
       "      <th>versions</th>\n",
       "      <th>update_date</th>\n",
       "      <th>authors_parsed</th>\n",
       "    </tr>\n",
       "  </thead>\n",
       "  <tbody>\n",
       "    <tr>\n",
       "      <th>0</th>\n",
       "      <td>704.0001</td>\n",
       "      <td>Pavel Nadolsky</td>\n",
       "      <td>C. Bal\\'azs, E. L. Berger, P. M. Nadolsky, C.-...</td>\n",
       "      <td>Calculation of prompt diphoton production cros...</td>\n",
       "      <td>37 pages, 15 figures; published version</td>\n",
       "      <td>Phys.Rev.D76:013009,2007</td>\n",
       "      <td>10.1103/PhysRevD.76.013009</td>\n",
       "      <td>ANL-HEP-PR-07-12</td>\n",
       "      <td>hep-ph</td>\n",
       "      <td>None</td>\n",
       "      <td>A fully differential calculation in perturba...</td>\n",
       "      <td>[{'version': 'v1', 'created': 'Mon, 2 Apr 2007...</td>\n",
       "      <td>2008-11-26</td>\n",
       "      <td>[[Balázs, C., ], [Berger, E. L., ], [Nadolsky,...</td>\n",
       "    </tr>\n",
       "    <tr>\n",
       "      <th>1</th>\n",
       "      <td>704.0002</td>\n",
       "      <td>Louis Theran</td>\n",
       "      <td>Ileana Streinu and Louis Theran</td>\n",
       "      <td>Sparsity-certifying Graph Decompositions</td>\n",
       "      <td>To appear in Graphs and Combinatorics</td>\n",
       "      <td>None</td>\n",
       "      <td>None</td>\n",
       "      <td>None</td>\n",
       "      <td>math.CO cs.CG</td>\n",
       "      <td>http://arxiv.org/licenses/nonexclusive-distrib...</td>\n",
       "      <td>We describe a new algorithm, the $(k,\\ell)$-...</td>\n",
       "      <td>[{'version': 'v1', 'created': 'Sat, 31 Mar 200...</td>\n",
       "      <td>2008-12-13</td>\n",
       "      <td>[[Streinu, Ileana, ], [Theran, Louis, ]]</td>\n",
       "    </tr>\n",
       "    <tr>\n",
       "      <th>2</th>\n",
       "      <td>704.0003</td>\n",
       "      <td>Hongjun Pan</td>\n",
       "      <td>Hongjun Pan</td>\n",
       "      <td>The evolution of the Earth-Moon system based o...</td>\n",
       "      <td>23 pages, 3 figures</td>\n",
       "      <td>None</td>\n",
       "      <td>None</td>\n",
       "      <td>None</td>\n",
       "      <td>physics.gen-ph</td>\n",
       "      <td>None</td>\n",
       "      <td>The evolution of Earth-Moon system is descri...</td>\n",
       "      <td>[{'version': 'v1', 'created': 'Sun, 1 Apr 2007...</td>\n",
       "      <td>2008-01-13</td>\n",
       "      <td>[[Pan, Hongjun, ]]</td>\n",
       "    </tr>\n",
       "    <tr>\n",
       "      <th>3</th>\n",
       "      <td>704.0004</td>\n",
       "      <td>David Callan</td>\n",
       "      <td>David Callan</td>\n",
       "      <td>A determinant of Stirling cycle numbers counts...</td>\n",
       "      <td>11 pages</td>\n",
       "      <td>None</td>\n",
       "      <td>None</td>\n",
       "      <td>None</td>\n",
       "      <td>math.CO</td>\n",
       "      <td>None</td>\n",
       "      <td>We show that a determinant of Stirling cycle...</td>\n",
       "      <td>[{'version': 'v1', 'created': 'Sat, 31 Mar 200...</td>\n",
       "      <td>2007-05-23</td>\n",
       "      <td>[[Callan, David, ]]</td>\n",
       "    </tr>\n",
       "    <tr>\n",
       "      <th>4</th>\n",
       "      <td>704.0005</td>\n",
       "      <td>Alberto Torchinsky</td>\n",
       "      <td>Wael Abu-Shammala and Alberto Torchinsky</td>\n",
       "      <td>From dyadic $\\Lambda_{\\alpha}$ to $\\Lambda_{\\a...</td>\n",
       "      <td>None</td>\n",
       "      <td>Illinois J. Math. 52 (2008) no.2, 681-689</td>\n",
       "      <td>None</td>\n",
       "      <td>None</td>\n",
       "      <td>math.CA math.FA</td>\n",
       "      <td>None</td>\n",
       "      <td>In this paper we show how to compute the $\\L...</td>\n",
       "      <td>[{'version': 'v1', 'created': 'Mon, 2 Apr 2007...</td>\n",
       "      <td>2013-10-15</td>\n",
       "      <td>[[Abu-Shammala, Wael, ], [Torchinsky, Alberto, ]]</td>\n",
       "    </tr>\n",
       "  </tbody>\n",
       "</table>\n",
       "</div>"
      ],
      "text/plain": [
       "         id           submitter  \\\n",
       "0  704.0001      Pavel Nadolsky   \n",
       "1  704.0002        Louis Theran   \n",
       "2  704.0003         Hongjun Pan   \n",
       "3  704.0004        David Callan   \n",
       "4  704.0005  Alberto Torchinsky   \n",
       "\n",
       "                                             authors  \\\n",
       "0  C. Bal\\'azs, E. L. Berger, P. M. Nadolsky, C.-...   \n",
       "1                    Ileana Streinu and Louis Theran   \n",
       "2                                        Hongjun Pan   \n",
       "3                                       David Callan   \n",
       "4           Wael Abu-Shammala and Alberto Torchinsky   \n",
       "\n",
       "                                               title  \\\n",
       "0  Calculation of prompt diphoton production cros...   \n",
       "1           Sparsity-certifying Graph Decompositions   \n",
       "2  The evolution of the Earth-Moon system based o...   \n",
       "3  A determinant of Stirling cycle numbers counts...   \n",
       "4  From dyadic $\\Lambda_{\\alpha}$ to $\\Lambda_{\\a...   \n",
       "\n",
       "                                  comments  \\\n",
       "0  37 pages, 15 figures; published version   \n",
       "1    To appear in Graphs and Combinatorics   \n",
       "2                      23 pages, 3 figures   \n",
       "3                                 11 pages   \n",
       "4                                     None   \n",
       "\n",
       "                                 journal-ref                         doi  \\\n",
       "0                   Phys.Rev.D76:013009,2007  10.1103/PhysRevD.76.013009   \n",
       "1                                       None                        None   \n",
       "2                                       None                        None   \n",
       "3                                       None                        None   \n",
       "4  Illinois J. Math. 52 (2008) no.2, 681-689                        None   \n",
       "\n",
       "          report-no       categories  \\\n",
       "0  ANL-HEP-PR-07-12           hep-ph   \n",
       "1              None    math.CO cs.CG   \n",
       "2              None   physics.gen-ph   \n",
       "3              None          math.CO   \n",
       "4              None  math.CA math.FA   \n",
       "\n",
       "                                             license  \\\n",
       "0                                               None   \n",
       "1  http://arxiv.org/licenses/nonexclusive-distrib...   \n",
       "2                                               None   \n",
       "3                                               None   \n",
       "4                                               None   \n",
       "\n",
       "                                            abstract  \\\n",
       "0    A fully differential calculation in perturba...   \n",
       "1    We describe a new algorithm, the $(k,\\ell)$-...   \n",
       "2    The evolution of Earth-Moon system is descri...   \n",
       "3    We show that a determinant of Stirling cycle...   \n",
       "4    In this paper we show how to compute the $\\L...   \n",
       "\n",
       "                                            versions update_date  \\\n",
       "0  [{'version': 'v1', 'created': 'Mon, 2 Apr 2007...  2008-11-26   \n",
       "1  [{'version': 'v1', 'created': 'Sat, 31 Mar 200...  2008-12-13   \n",
       "2  [{'version': 'v1', 'created': 'Sun, 1 Apr 2007...  2008-01-13   \n",
       "3  [{'version': 'v1', 'created': 'Sat, 31 Mar 200...  2007-05-23   \n",
       "4  [{'version': 'v1', 'created': 'Mon, 2 Apr 2007...  2013-10-15   \n",
       "\n",
       "                                      authors_parsed  \n",
       "0  [[Balázs, C., ], [Berger, E. L., ], [Nadolsky,...  \n",
       "1           [[Streinu, Ileana, ], [Theran, Louis, ]]  \n",
       "2                                 [[Pan, Hongjun, ]]  \n",
       "3                                [[Callan, David, ]]  \n",
       "4  [[Abu-Shammala, Wael, ], [Torchinsky, Alberto, ]]  "
      ]
     },
     "execution_count": 3,
     "metadata": {},
     "output_type": "execute_result"
    }
   ],
   "source": [
    "arxiv_meta.head(5)"
   ]
  },
  {
   "cell_type": "markdown",
   "id": "b557ea3a",
   "metadata": {},
   "source": [
    "    EDA"
   ]
  },
  {
   "cell_type": "code",
   "execution_count": 4,
   "id": "124097ce",
   "metadata": {},
   "outputs": [
    {
     "name": "stderr",
     "output_type": "stream",
     "text": [
      "C:\\Users\\mjwjl\\anaconda3\\lib\\site-packages\\missingno\\missingno.py:72: MatplotlibDeprecationWarning: The 'b' parameter of grid() has been renamed 'visible' since Matplotlib 3.5; support for the old name will be dropped two minor releases later.\n",
      "  ax0.grid(b=False)\n",
      "C:\\Users\\mjwjl\\anaconda3\\lib\\site-packages\\missingno\\missingno.py:141: MatplotlibDeprecationWarning: The 'b' parameter of grid() has been renamed 'visible' since Matplotlib 3.5; support for the old name will be dropped two minor releases later.\n",
      "  ax1.grid(b=False)\n"
     ]
    },
    {
     "data": {
      "text/plain": [
       "<AxesSubplot:>"
      ]
     },
     "execution_count": 4,
     "metadata": {},
     "output_type": "execute_result"
    },
    {
     "data": {
      "image/png": "[encoded data removed]",
      "text/plain": [
       "<Figure size 1800x720 with 2 Axes>"
      ]
     },
     "metadata": {
      "needs_background": "light"
     },
     "output_type": "display_data"
    }
   ],
   "source": [
    "msno.matrix(arxiv_meta)"
   ]
  },
  {
   "cell_type": "markdown",
   "id": "7e35f261",
   "metadata": {},
   "source": [
    "Features are full rank for all columns relevant. "
   ]
  },
  {
   "cell_type": "code",
   "execution_count": 5,
   "id": "ddd801ea",
   "metadata": {},
   "outputs": [
    {
     "data": {
      "text/plain": [
       "astro-ph              0.1719\n",
       "hep-ph                0.0475\n",
       "quant-ph              0.0466\n",
       "hep-th                0.0427\n",
       "gr-qc                 0.0218\n",
       "cond-mat.mtrl-sci     0.0194\n",
       "cond-mat.mes-hall     0.0179\n",
       "cond-mat.str-el       0.0164\n",
       "cond-mat.stat-mech    0.0145\n",
       "nucl-th               0.0141\n",
       "hep-ex                0.0139\n",
       "math.AG               0.0116\n",
       "math-ph math.MP       0.0110\n",
       "cond-mat.other        0.0108\n",
       "cs.IT math.IT         0.0106\n",
       "math.PR               0.0098\n",
       "physics.gen-ph        0.0092\n",
       "cond-mat.soft         0.0091\n",
       "nucl-ex               0.0089\n",
       "cond-mat.supr-con     0.0086\n",
       "Name: categories, dtype: float64"
      ]
     },
     "execution_count": 5,
     "metadata": {},
     "output_type": "execute_result"
    }
   ],
   "source": [
    "arxiv_meta[\"categories\"].value_counts(normalize=True).head(20)"
   ]
  },
  {
   "cell_type": "markdown",
   "id": "309cbd6a",
   "metadata": {},
   "source": [
    "Remarkable representation of many of these tags as topics, even if unlabeled."
   ]
  },
  {
   "cell_type": "code",
   "execution_count": 6,
   "id": "6def5e7d",
   "metadata": {},
   "outputs": [
    {
     "data": {
      "text/plain": [
       "4999    2007-05-23\n",
       "2717    2007-05-23\n",
       "6595    2007-05-23\n",
       "6589    2007-05-23\n",
       "6582    2007-05-23\n",
       "           ...    \n",
       "8708    2021-08-23\n",
       "5877    2021-08-30\n",
       "8062    2021-10-14\n",
       "274     2021-10-15\n",
       "3247    2021-11-15\n",
       "Name: update_date, Length: 10000, dtype: object"
      ]
     },
     "execution_count": 6,
     "metadata": {},
     "output_type": "execute_result"
    }
   ],
   "source": [
    "arxiv_meta[\"update_date\"].sort_values()"
   ]
  },
  {
   "cell_type": "markdown",
   "id": "a4b225aa",
   "metadata": {},
   "source": [
    "Data extends from 2007 - 2021. After submission I will stream data from json "
   ]
  },
  {
   "cell_type": "markdown",
   "id": "0fde76c4",
   "metadata": {},
   "source": [
    "    process"
   ]
  },
  {
   "cell_type": "code",
   "execution_count": 7,
   "id": "8555b6a0",
   "metadata": {},
   "outputs": [],
   "source": [
    "# grab set of stopwords from nltk and CV\n",
    "sw = set(stopwords.words(\"english\"))\n",
    "cv = set(CountVectorizer(stop_words=\"english\").get_stop_words())\n",
    "\n",
    "# union of stopwrods from nltk and CV extended with custom stopwords\n",
    "stops = list(set(cv | sw))\n",
    "stops.extend([\"php\", \"k\", \"ell\", \"n\", \"r\", \"t\", \"bf\", \"pi\"])"
   ]
  },
  {
   "cell_type": "code",
   "execution_count": 8,
   "id": "aa38c67a",
   "metadata": {},
   "outputs": [
    {
     "data": {
      "text/plain": [
       "'  We describe a new algorithm, the $(k,\\\\ell)$-pebble game with colors, and use\\nit obtain a characterization of the family of $(k,\\\\ell)$-sparse graphs and\\nalgorithmic solutions to a family of problems concerning tree decompositions of\\ngraphs. Special instances of sparse graphs appear in rigidity theory and have\\nreceived increased attention in recent years. In particular, our colored\\npebbles generalize and strengthen the previous results of Lee and Streinu and\\ngive a new proof of the Tutte-Nash-Williams characterization of arboricity. We\\nalso present a new decomposition that certifies sparsity based on the\\n$(k,\\\\ell)$-pebble game with colors. Our work also exposes connections between\\npebble game algorithms and previous sparse graph algorithms by Gabow, Gabow and\\nWestermann and Hendrickson.\\n'"
      ]
     },
     "execution_count": 8,
     "metadata": {},
     "output_type": "execute_result"
    }
   ],
   "source": [
    "arxiv_meta[\"abstract\"][1]"
   ]
  },
  {
   "cell_type": "markdown",
   "id": "d063c046",
   "metadata": {},
   "source": [
    "TeX and Markdown formulas are frequent throughout. Ideally they would be retained, even if not human readable they are unique tokens. While many candidates for stop words identified downstream $\\pi$ was often the most salient term across most topics."
   ]
  },
  {
   "cell_type": "code",
   "execution_count": 9,
   "id": "2b0eaa63",
   "metadata": {},
   "outputs": [],
   "source": [
    "arxiv_meta[\"abstract_processed_text\"] = free_form_preprocessor(arxiv_meta, \"abstract\", stops)"
   ]
  },
  {
   "cell_type": "code",
   "execution_count": 10,
   "id": "8275a18a",
   "metadata": {},
   "outputs": [
    {
     "data": {
      "text/plain": [
       "'new algorithm pebble game colors use obtain characterization family sparse graphs algorithmic solutions family problems concerning tree decompositions graphs special instances sparse graphs appear rigidity theory received increased attention recent years particular colored pebbles generalize strengthen previous results lee streinu new proof tutte nash williams characterization arboricity present new decomposition certifies sparsity based pebble game colors work exposes connections pebble game algorithms previous sparse graph algorithms gabow gabow westermann hendrickson'"
      ]
     },
     "execution_count": 10,
     "metadata": {},
     "output_type": "execute_result"
    }
   ],
   "source": [
    "arxiv_meta[\"abstract_processed_text\"][1]"
   ]
  },
  {
   "cell_type": "code",
   "execution_count": 11,
   "id": "0a30f18d",
   "metadata": {},
   "outputs": [],
   "source": [
    "char, word = free_form_counter(arxiv_meta, \"abstract_processed_text\")"
   ]
  },
  {
   "cell_type": "code",
   "execution_count": 12,
   "id": "cd067565",
   "metadata": {},
   "outputs": [
    {
     "data": {
      "image/png": "[encoded data removed]",
      "text/plain": [
       "<Figure size 432x288 with 1 Axes>"
      ]
     },
     "metadata": {
      "needs_background": "light"
     },
     "output_type": "display_data"
    }
   ],
   "source": [
    "word.hist(bins=27);"
   ]
  },
  {
   "cell_type": "code",
   "execution_count": 13,
   "id": "72ef45de",
   "metadata": {},
   "outputs": [
    {
     "data": {
      "image/png": "[encoded data removed]",
      "text/plain": [
       "<Figure size 432x288 with 1 Axes>"
      ]
     },
     "metadata": {
      "needs_background": "light"
     },
     "output_type": "display_data"
    }
   ],
   "source": [
    "plt.hist(x = word, bins=27, cumulative=-1);"
   ]
  },
  {
   "cell_type": "markdown",
   "id": "9749661d",
   "metadata": {},
   "source": [
    "Interesting distribution. Does not appear Gaussian. I've read that Dirichlet distribution is best applied to corpi of vernacular text."
   ]
  },
  {
   "cell_type": "markdown",
   "id": "bba162e5",
   "metadata": {},
   "source": [
    "     semantics"
   ]
  },
  {
   "cell_type": "markdown",
   "id": "d9d9c761",
   "metadata": {},
   "source": [
    "This section is not "
   ]
  },
  {
   "cell_type": "code",
   "execution_count": 14,
   "id": "c4cf2691",
   "metadata": {},
   "outputs": [],
   "source": [
    "# https://spacy.io/usage/processing-pipelines\n",
    "space_case = spacy.load(\"en_core_web_sm\", disable=[\"parser\", \"ner\", \"textcat\"])"
   ]
  },
  {
   "cell_type": "code",
   "execution_count": 15,
   "id": "f4831678",
   "metadata": {},
   "outputs": [
    {
     "data": {
      "text/plain": [
       "new algorithm pebble game colors use obtain characterization family sparse graphs algorithmic solutions family problems concerning tree decompositions graphs special instances sparse graphs appear rigidity theory received increased attention recent years particular colored pebbles generalize strengthen previous results lee streinu new proof tutte nash williams characterization arboricity present new decomposition certifies sparsity based pebble game colors work exposes connections pebble game algorithms previous sparse graph algorithms gabow gabow westermann hendrickson"
      ]
     },
     "execution_count": 15,
     "metadata": {},
     "output_type": "execute_result"
    }
   ],
   "source": [
    "précis = space_case(arxiv_meta[\"abstract_processed_text\"].iloc[1])\n",
    "précis"
   ]
  },
  {
   "cell_type": "code",
   "execution_count": 16,
   "id": "15b3727e",
   "metadata": {},
   "outputs": [
    {
     "name": "stdout",
     "output_type": "stream",
     "text": [
      "new JJ\n",
      "algorithm NNP\n",
      "pebble JJ\n",
      "game NN\n",
      "colors NNS\n",
      "use VBP\n",
      "obtain VB\n",
      "characterization NN\n",
      "family NN\n",
      "sparse NN\n"
     ]
    }
   ],
   "source": [
    "[print(token, token.tag_) for token in précis[0:10]];"
   ]
  },
  {
   "cell_type": "code",
   "execution_count": 17,
   "id": "1afbec81",
   "metadata": {},
   "outputs": [
    {
     "name": "stdout",
     "output_type": "stream",
     "text": [
      "new ADJ\n",
      "algorithm PROPN\n",
      "pebble ADJ\n",
      "game NOUN\n",
      "colors NOUN\n",
      "use VERB\n",
      "obtain VERB\n",
      "characterization NOUN\n",
      "family NOUN\n",
      "sparse NOUN\n"
     ]
    }
   ],
   "source": [
    "[print(token, token.pos_) for token in précis[0:10]];"
   ]
  },
  {
   "cell_type": "code",
   "execution_count": 18,
   "id": "3f899703",
   "metadata": {},
   "outputs": [
    {
     "name": "stdout",
     "output_type": "stream",
     "text": [
      "new new\n",
      "algorithm algorithm\n",
      "pebble pebble\n",
      "game game\n",
      "colors color\n",
      "use use\n",
      "obtain obtain\n",
      "characterization characterization\n",
      "family family\n",
      "sparse sparse\n"
     ]
    }
   ],
   "source": [
    "[print(token, token.lemma_) for token in précis[0:10]];"
   ]
  },
  {
   "cell_type": "markdown",
   "id": "d150a960",
   "metadata": {},
   "source": [
    "POS tags are not utilized in any model or embedding. Left here as an exploration of an option for future lda2vec implementation."
   ]
  },
  {
   "cell_type": "code",
   "execution_count": 19,
   "id": "9ed21e54",
   "metadata": {},
   "outputs": [],
   "source": [
    "# parse = spacy.load(\"en_core_web_sm\")\n",
    "# display = parse(arxiv_meta[\"abstract\"].iloc[1])\n",
    "\n",
    "# # https://stackoverflow.com/questions/56181929/save-spacy-render-file-as-svg-using-displacy\n",
    "# from pathlib import Path\n",
    "# svg = displacy.render(display[38:46], style=\"dep\", jupyter=False)\n",
    "# output_path = Path(\"../images/sample_sentence_2.svg\")\n",
    "# output_path.open(\"w\", encoding=\"utf-8\").write(svg);"
   ]
  },
  {
   "cell_type": "markdown",
   "id": "896db2b2",
   "metadata": {},
   "source": [
    "#### Topic Model n-grams(uni-grams)"
   ]
  },
  {
   "cell_type": "code",
   "execution_count": 20,
   "id": "6946ccf7",
   "metadata": {},
   "outputs": [],
   "source": [
    "# Gensim tutorial on LDA implementaion\n",
    "# https://radimrehurek.com/gensim/auto_examples/tutorials/run_lda.html"
   ]
  },
  {
   "cell_type": "code",
   "execution_count": 21,
   "id": "501acd36",
   "metadata": {},
   "outputs": [],
   "source": [
    "# lemmatize the text. Minimal contractions made\n",
    "arxiv_meta[\"abstract_lemmatized_processed_text\"] = lemmings(arxiv_meta, [\"abstract_processed_text\"])\n",
    "arxiv_meta[\"abstract_lemmatized_processed_text\"].to_csv(\"../data/transformed/abstract_lemmatized_processed_text.csv\", index=False)"
   ]
  },
  {
   "cell_type": "code",
   "execution_count": 22,
   "id": "b4d72488",
   "metadata": {},
   "outputs": [],
   "source": [
    "arxiv_meta[\"abstract_lemmatized_processed_text\"] = pd.read_csv(\"../data/transformed/abstract_lemmatized_processed_text.csv\")"
   ]
  },
  {
   "cell_type": "code",
   "execution_count": 23,
   "id": "905adc33",
   "metadata": {},
   "outputs": [],
   "source": [
    "# Tokenize text using gensim built in preprocessor. Checked documentation just uses RegExp\n",
    "# with add deacc\n",
    "abstract_tokens = [gensim.utils.simple_preprocess(x, deacc=True) for x in arxiv_meta[\"abstract_lemmatized_processed_text\"]]\n",
    "\n",
    "# Creates a dictionary {int_key : word_value}\n",
    "word2id = gensim.corpora.Dictionary(abstract_tokens)\n",
    "# ids of token/dict key with count of tokens in doc\n",
    "# each doc becomes a bag of words\n",
    "corpus = [word2id.doc2bow(x) for x in abstract_tokens]"
   ]
  },
  {
   "cell_type": "code",
   "execution_count": 24,
   "id": "85e250b2",
   "metadata": {},
   "outputs": [],
   "source": [
    "# LDA model, alpha and (b)eta update every pass and are left to \"auto\". These define the prior and\n",
    "# shape the probability distribution used to weigh doc and words topic composition.\n",
    "# This is very technical model and deserves its own write up.\n",
    "# Every document has a context, this context is modelled as a mixture of n topics. Every word \"learns\"\n",
    "# a rank in topics those with high ranks per topics come to indicate that topic\n",
    "lda = LdaModel(corpus=corpus, id2word=word2id,  num_topics=17, chunksize=500, passes=20,\n",
    "               update_every=1, alpha=\"auto\", eta=\"auto\", random_state=137)\n",
    "\n",
    "lda.save(\"../models/137_model.model\")"
   ]
  },
  {
   "cell_type": "code",
   "execution_count": 25,
   "id": "620efd99",
   "metadata": {},
   "outputs": [
    {
     "data": {
      "text/plain": [
       "[(2, 0.06153787),\n",
       " (6, 0.09562606),\n",
       " (9, 0.03896704),\n",
       " (11, 0.024808373),\n",
       " (14, 0.24180812),\n",
       " (15, 0.023457227),\n",
       " (16, 0.48759052)]"
      ]
     },
     "execution_count": 25,
     "metadata": {},
     "output_type": "execute_result"
    }
   ],
   "source": [
    "doc_topic_mixture = list(lda.get_document_topics(corpus))[0]\n",
    "doc_topic_mixture"
   ]
  },
  {
   "cell_type": "markdown",
   "id": "dc883304",
   "metadata": {},
   "source": [
    "Doc 1 would be ascribed doc 16"
   ]
  },
  {
   "cell_type": "markdown",
   "id": "24522629",
   "metadata": {},
   "source": [
    "    Visualize unigram topics"
   ]
  },
  {
   "cell_type": "code",
   "execution_count": 43,
   "id": "ec1f348c",
   "metadata": {},
   "outputs": [],
   "source": [
    "# Tea leaves\n",
    "# https://proceedings.neurips.cc/paper/2009/file/f92586a25bb3145facd64ab20fd554ff-Paper.pdf"
   ]
  },
  {
   "cell_type": "code",
   "execution_count": 124,
   "id": "4c248374",
   "metadata": {},
   "outputs": [
    {
     "name": "stderr",
     "output_type": "stream",
     "text": [
      "C:\\Users\\mjwjl\\anaconda3\\lib\\site-packages\\pyLDAvis\\_prepare.py:246: FutureWarning: In a future version of pandas all arguments of DataFrame.drop except for the argument 'labels' will be keyword-only\n",
      "  default_term_info = default_term_info.sort_values(\n"
     ]
    }
   ],
   "source": [
    "# https://pyldavis.readthedocs.io/en/latest/modules/API.html#pyLDAvis.prepare\n",
    "pyLDAvis.enable_notebook()\n",
    "topics = pyLDAvis.gensim_models.prepare(lda, corpus, word2id, mds=\"mmds\", R=20)\n",
    "pyLDAvis.save_html(topics, \"../topic_visualizations/second_attempt.html\")\n",
    "topics"
   ]
  },
  {
   "cell_type": "markdown",
   "id": "35eef17c",
   "metadata": {},
   "source": [
    "    Metrics unigram topics"
   ]
  },
  {
   "cell_type": "code",
   "execution_count": 71,
   "id": "1a3a2f0c",
   "metadata": {},
   "outputs": [
    {
     "name": "stdout",
     "output_type": "stream",
     "text": [
      "Topic 1 Coherence score: 0.4096498060640815\n",
      "Topic 2 Coherence score: 0.3858960469222602\n",
      "Topic 3 Coherence score: 0.42608087714716286\n",
      "Topic 4 Coherence score: 0.5208597996990907\n",
      "Topic 5 Coherence score: 0.3835958863495076\n",
      "Topic 6 Coherence score: 0.5976483475510681\n",
      "Topic 7 Coherence score: 0.4172492133610379\n",
      "Topic 8 Coherence score: 0.4473155068391083\n",
      "Topic 9 Coherence score: 0.3445044155180455\n",
      "Topic 10 Coherence score: 0.5611621685533199\n",
      "Topic 11 Coherence score: 0.3647008572776389\n",
      "Topic 12 Coherence score: 0.5827546815862884\n",
      "Topic 13 Coherence score: 0.40001414333699303\n",
      "Topic 14 Coherence score: 0.3143982941840682\n",
      "Topic 15 Coherence score: 0.41948615412295903\n",
      "Topic 16 Coherence score: 0.39319362428539895\n",
      "Topic 17 Coherence score: 0.4111234955772378\n",
      "Topic 18 Coherence score: 0.47776663341597086\n",
      "Topic 19 Coherence score: 0.40074256628406096\n",
      "Topic 20 Coherence score: 0.4781823183311329\n",
      "Topic 21 Coherence score: 0.3833919274346146\n",
      "Topic 22 Coherence score: 0.3454272366021388\n",
      "Topic 23 Coherence score: 0.2803488617717738\n",
      "Topic 24 Coherence score: 0.6097668774578066\n",
      "Topic 25 Coherence score: 0.40356484204181553\n",
      "Topic 26 Coherence score: 0.3495989189265108\n",
      "Topic 27 Coherence score: 0.6163730042247566\n",
      "Topic 28 Coherence score: 0.3986649143258589\n",
      "Topic 29 Coherence score: 0.42583797334095336\n",
      "Topic 30 Coherence score: 0.4595322067438727\n",
      "Topic 31 Coherence score: 0.5027403462942994\n",
      "Topic 32 Coherence score: 0.377672563256908\n",
      "Topic 33 Coherence score: 0.3480084738340984\n",
      "Topic 34 Coherence score: 0.6764669808579992\n",
      "Topic 35 Coherence score: 0.6177794465872184\n",
      "Topic 36 Coherence score: 0.3100379059541706\n",
      "Topic 37 Coherence score: 0.4982339867105862\n",
      "Topic 38 Coherence score: 0.4173896403242255\n",
      "Topic 39 Coherence score: 0.459048142448641\n",
      "Topic 40 Coherence score: 0.42315514081746997\n"
     ]
    }
   ],
   "source": [
    "lda_coherence = CoherenceModel(model=lda, texts=abstract_tokens, dictionary=word2id, coherence=\"c_v\")\n",
    "lda_coherence_score = lda_coherence.get_coherence()\n",
    "lda_coherence_score_per_topic = lda_coherence.get_coherence_per_topic()\n",
    "for i in range(len(lda.get_topics())):\n",
    "    print(f\"Topic {i + 1} Coherence score: {lda_coherence_score_per_topic[i]}\")"
   ]
  },
  {
   "cell_type": "markdown",
   "id": "85327dc6",
   "metadata": {},
   "source": [
    "    grid search"
   ]
  },
  {
   "cell_type": "code",
   "execution_count": 28,
   "id": "3c55d070",
   "metadata": {},
   "outputs": [],
   "source": [
    "from modules.custom_grid_search import topic_num_search"
   ]
  },
  {
   "cell_type": "code",
   "execution_count": 30,
   "id": "d8069cb2",
   "metadata": {},
   "outputs": [],
   "source": [
    "# search = topic_num_search(tokens=abstract_tokens, corpus=corpus, id2word=word2id, min_topics=41, max_topics=100)"
   ]
  },
  {
   "cell_type": "code",
   "execution_count": 31,
   "id": "5f282afd",
   "metadata": {},
   "outputs": [],
   "source": [
    "# with open(\"../models/topic_models/topic_coherence_scores_41_100.pkl\", \"wb\") as file:\n",
    "#     pickle.dump(search, file)"
   ]
  },
  {
   "cell_type": "code",
   "execution_count": 78,
   "id": "b44edab0",
   "metadata": {},
   "outputs": [],
   "source": [
    "with open(\"../models/topic_models/topic_coherence_scores.pkl\", \"rb\") as file:\n",
    "    coherence_scores = pickle.load(file)"
   ]
  },
  {
   "cell_type": "code",
   "execution_count": 32,
   "id": "91e7a6fe",
   "metadata": {},
   "outputs": [],
   "source": [
    "# with open(\"../models/topic_models/topic_coherence_scores_41_100.pkl\", \"rb\") as file:\n",
    "#     scores_41_100 = pickle.load(file)"
   ]
  },
  {
   "cell_type": "code",
   "execution_count": 70,
   "id": "ffe29cea",
   "metadata": {},
   "outputs": [],
   "source": [
    "# coherence_scores.extend(scores_41_100)"
   ]
  },
  {
   "cell_type": "code",
   "execution_count": 72,
   "id": "ea03d11a",
   "metadata": {},
   "outputs": [],
   "source": [
    "search_x = [coherence_scores[i][0] for i in range(len(search))]\n",
    "search_y = [coherence_scores[i][2] for i in range(len(search))]\n",
    "\n",
    "plt.figure(figsize=(16, 9))\n",
    "\n",
    "#plt.plot(search[0], search[1], label=\"Coherence\")\n",
    "plt.plot(search_x, search_y, label=\"Coherence\", color=\"#595959\", linewidth=2.0)\n",
    "\n",
    "plt.xlabel(\"No. of Topics\", fontsize=22)\n",
    "plt.xticks(fontsize=18)\n",
    "plt.ylabel(\"Coherence Score\", fontsize=22)\n",
    "plt.yticks(fontsize=18)\n",
    "plt.title(\"Coherence Scores for N Topics\", fontsize=28)\n",
    "plt.legend(prop={\"size\" : 14})\n",
    "plt.savefig(\"../images/coherence_scores.png\", transparent=True);"
   ]
  },
  {
   "cell_type": "markdown",
   "id": "8fb20181",
   "metadata": {},
   "source": [
    "#### Topic Model n-gram(bigram & trigram)"
   ]
  },
  {
   "cell_type": "code",
   "execution_count": 114,
   "id": "d9fd22af",
   "metadata": {},
   "outputs": [],
   "source": [
    "# follow tutorial on how to build phrases(n-grams)\n",
    "# https://radimrehurek.com/gensim/models/phrases.html\n",
    "from gensim.models import phrases"
   ]
  },
  {
   "cell_type": "code",
   "execution_count": 115,
   "id": "01999ff2",
   "metadata": {},
   "outputs": [],
   "source": [
    "bigram = phrases.Phrases(abstract_tokens, min_count=2, threshold=.25, max_vocab_size=27000)\n",
    "trigram_bigram = phrases.Phrases(bigram[abstract_tokens], min_count = 2, threshold=.25, max_vocab_size=27000)"
   ]
  },
  {
   "cell_type": "code",
   "execution_count": 116,
   "id": "2dbaf51f",
   "metadata": {},
   "outputs": [],
   "source": [
    "# https://stackoverflow.com/questions/46129335/get-bigrams-and-trigrams-in-word2vec-gensim\n",
    "bi_tri_gram_tokens = phrases.Phraser(trigram_bigram)\n",
    "#ngram_tokens.phrasegrams\n",
    "ngram_tokens = [bi_tri_gram_tokens[x] for x in abstract_tokens]"
   ]
  },
  {
   "cell_type": "code",
   "execution_count": 117,
   "id": "30eceff5",
   "metadata": {},
   "outputs": [
    {
     "name": "stdout",
     "output_type": "stream",
     "text": [
      "Dictionary(24397 unique tokens: ['accuracy', 'anti', 'antiquark', 'calculation', 'cdf']...)\n"
     ]
    }
   ],
   "source": [
    "ngram2id = gensim.corpora.Dictionary(ngram_tokens)\n",
    "#ngram2id.filter_extremes(no_below=.025, no_above=.2)\n",
    "ngram_corpus = [ngram2id.doc2bow(x) for x in ngram_tokens]\n",
    "print(ngram2id)"
   ]
  },
  {
   "cell_type": "code",
   "execution_count": 129,
   "id": "4aa8f307",
   "metadata": {},
   "outputs": [],
   "source": [
    "lda_ngram = LdaModel(corpus=ngram_corpus, num_topics=20, id2word=ngram2id, chunksize=500, passes=40,\n",
    "               update_every=1, alpha=\"auto\", eta=\"auto\", random_state=137)\n",
    "\n",
    "lda_ngram.save(\"../models/137_ngram_model.model\")"
   ]
  },
  {
   "cell_type": "code",
   "execution_count": 130,
   "id": "5f9c8bc2",
   "metadata": {},
   "outputs": [
    {
     "name": "stderr",
     "output_type": "stream",
     "text": [
      "C:\\Users\\mjwjl\\anaconda3\\lib\\site-packages\\pyLDAvis\\_prepare.py:246: FutureWarning: In a future version of pandas all arguments of DataFrame.drop except for the argument 'labels' will be keyword-only\n",
      "  default_term_info = default_term_info.sort_values(\n"
     ]
    }
   ],
   "source": [
    "# https://pyldavis.readthedocs.io/en/latest/modules/API.html#pyLDAvis.prepare\n",
    "pyLDAvis.enable_notebook()\n",
    "ngram_topics = pyLDAvis.gensim_models.prepare(lda_ngram, ngram_corpus, ngram2id, mds=\"mmds\", R=20)\n",
    "pyLDAvis.save_html(topics, \"../visualizations/topic_visualizations/n_gram_137_LDAvis.html\")\n",
    "ngram_topics"
   ]
  },
  {
   "cell_type": "code",
   "execution_count": 121,
   "id": "594686f0",
   "metadata": {},
   "outputs": [
    {
     "data": {
      "text/plain": [
       "-9.939813645382408"
      ]
     },
     "execution_count": 121,
     "metadata": {},
     "output_type": "execute_result"
    }
   ],
   "source": [
    "lda_ngram.log_perplexity(ngram_corpus, total_docs=10000)"
   ]
  },
  {
   "cell_type": "code",
   "execution_count": 126,
   "id": "3fd118ce",
   "metadata": {},
   "outputs": [
    {
     "name": "stdout",
     "output_type": "stream",
     "text": [
      "Overall Topic 1 Coherence score: 0.4966159940262078\n",
      "Topic 1 Coherence score: 0.41636559428929\n",
      "Overall Topic 2 Coherence score: 0.4966159940262078\n",
      "Topic 2 Coherence score: 0.49200754852660733\n",
      "Overall Topic 3 Coherence score: 0.4966159940262078\n",
      "Topic 3 Coherence score: 0.4336441043858188\n",
      "Overall Topic 4 Coherence score: 0.4966159940262078\n",
      "Topic 4 Coherence score: 0.3950494530766847\n",
      "Overall Topic 5 Coherence score: 0.4966159940262078\n",
      "Topic 5 Coherence score: 0.6166678896854746\n",
      "Overall Topic 6 Coherence score: 0.4966159940262078\n",
      "Topic 6 Coherence score: 0.5464365181763836\n",
      "Overall Topic 7 Coherence score: 0.4966159940262078\n",
      "Topic 7 Coherence score: 0.3916802148698625\n",
      "Overall Topic 8 Coherence score: 0.4966159940262078\n",
      "Topic 8 Coherence score: 0.44280127304919253\n",
      "Overall Topic 9 Coherence score: 0.4966159940262078\n",
      "Topic 9 Coherence score: 0.40843689850153764\n",
      "Overall Topic 10 Coherence score: 0.4966159940262078\n",
      "Topic 10 Coherence score: 0.5661867148607498\n",
      "Overall Topic 11 Coherence score: 0.4966159940262078\n",
      "Topic 11 Coherence score: 0.5167756744175211\n",
      "Overall Topic 12 Coherence score: 0.4966159940262078\n",
      "Topic 12 Coherence score: 0.3602888499839305\n",
      "Overall Topic 13 Coherence score: 0.4966159940262078\n",
      "Topic 13 Coherence score: 0.3191884880955629\n",
      "Overall Topic 14 Coherence score: 0.4966159940262078\n",
      "Topic 14 Coherence score: 0.4952671003064494\n",
      "Overall Topic 15 Coherence score: 0.4966159940262078\n",
      "Topic 15 Coherence score: 0.6535912287824047\n",
      "Overall Topic 16 Coherence score: 0.4966159940262078\n",
      "Topic 16 Coherence score: 0.6393910330321866\n",
      "Overall Topic 17 Coherence score: 0.4966159940262078\n",
      "Topic 17 Coherence score: 0.7486933144058747\n"
     ]
    }
   ],
   "source": [
    "ngram_lda_coherence = CoherenceModel(model=lda_ngram, texts=ngram_tokens, dictionary=ngram2id, coherence=\"c_v\")\n",
    "ngram_lda_coherence_score = ngram_lda_coherence.get_coherence()\n",
    "ngram_lda_coherence_score_per_topic = ngram_lda_coherence.get_coherence_per_topic()\n",
    "for i in range(len(lda_ngram.get_topics())):\n",
    "    print(f\"Overall Topic {i + 1} Coherence score: {ngram_lda_coherence_score}\")\n",
    "    print(f\"Topic {i + 1} Coherence score: {ngram_lda_coherence_score_per_topic[i]}\")"
   ]
  },
  {
   "cell_type": "markdown",
   "id": "df7be275",
   "metadata": {},
   "source": [
    "#### Ensemble Topic Model"
   ]
  },
  {
   "cell_type": "code",
   "execution_count": 31,
   "id": "b25f8292",
   "metadata": {},
   "outputs": [],
   "source": [
    "from gensim.models import EnsembleLda"
   ]
  },
  {
   "cell_type": "code",
   "execution_count": 47,
   "id": "e87364f6",
   "metadata": {},
   "outputs": [],
   "source": [
    "# EnsembleLDA should stabilize results over random states. Does not work as intended\n",
    "# Creating solution\n",
    "# https://radimrehurek.com/gensim/auto_examples/tutorials/run_ensemblelda.html\n",
    "ensemble = EnsembleLda(corpus=corpus, num_topics=20, num_models=8, epsilon=.05, ensemble_workers=2, distance_workers=2, topic_model_class =\"ldamulticore\")"
   ]
  },
  {
   "cell_type": "markdown",
   "id": "a13dd181",
   "metadata": {},
   "source": [
    "#### Topic Model Embedding (Lda2vec, LdaSeqModel)"
   ]
  },
  {
   "cell_type": "code",
   "execution_count": 73,
   "id": "63c06af3",
   "metadata": {},
   "outputs": [],
   "source": [
    "from gensim.models import Doc2Vec, EnsembleLda, LdaSeqModel, Word2Vec, callbacks\n",
    "import lda2vec"
   ]
  },
  {
   "cell_type": "code",
   "execution_count": 76,
   "id": "99af8fab",
   "metadata": {},
   "outputs": [],
   "source": [
    "# https://stackoverflow.com/questions/54888490/gensim-word2vec-print-log-loss\n",
    "# The documentation for gensim is hit or miss. In this case the implementation of callbacks is obfuscated\n",
    "class callback(callbacks.CallbackAny2Vec):\n",
    "\n",
    "    def __init__(self):\n",
    "        self.epoch = 0\n",
    "        self.loss_to_be_subbed = 0\n",
    "\n",
    "    def on_epoch_end(self, model):\n",
    "        loss = model.get_latest_training_loss()\n",
    "        loss_now = loss - self.loss_to_be_subbed\n",
    "        self.loss_to_be_subbed = loss\n",
    "        print(f\"Loss after epoch {self.epoch}: {loss_now}\")\n",
    "        self.epoch += 1"
   ]
  },
  {
   "cell_type": "code",
   "execution_count": 33,
   "id": "095dd988",
   "metadata": {},
   "outputs": [],
   "source": [
    "# w2v = Word2Vec(sentences=abstract_tokens, vector_size=200, alpha=0.02, window=15, min_count=5, workers=4, sg=1, max_vocab_size=25000, negative=5,\n",
    "#          epochs=100, compute_loss=True, callbacks=[callback()])"
   ]
  },
  {
   "cell_type": "code",
   "execution_count": 34,
   "id": "680f4485",
   "metadata": {},
   "outputs": [],
   "source": [
    "# w2v.save(\"../models/first_w2v.model\")"
   ]
  },
  {
   "cell_type": "code",
   "execution_count": 79,
   "id": "abfb5c1b",
   "metadata": {},
   "outputs": [
    {
     "data": {
      "text/plain": [
       "[('masse', 0.7267782092094421),\n",
       " ('massive', 0.5681566596031189),\n",
       " ('msun', 0.5426380038261414),\n",
       " ('luminosity', 0.5326485633850098),\n",
       " ('stellar', 0.5137531757354736),\n",
       " ('star', 0.4862370789051056),\n",
       " ('m_sun', 0.4816111624240875),\n",
       " ('abundance', 0.42901110649108887),\n",
       " ('galaxy', 0.4238625168800354),\n",
       " ('halo', 0.39548105001449585)]"
      ]
     },
     "execution_count": 79,
     "metadata": {},
     "output_type": "execute_result"
    }
   ],
   "source": [
    "w2v.wv.most_similar(\"mass\")"
   ]
  },
  {
   "cell_type": "code",
   "execution_count": 81,
   "id": "790b0719",
   "metadata": {},
   "outputs": [
    {
     "data": {
      "text/plain": [
       "[('state', 0.571729838848114),\n",
       " ('qubit', 0.5424454808235168),\n",
       " ('classical', 0.5260770916938782),\n",
       " ('mechanic', 0.506135106086731),\n",
       " ('entanglement', 0.5007437467575073),\n",
       " ('hamiltonian', 0.4900425970554352),\n",
       " ('entangle', 0.48750919103622437),\n",
       " ('multiparty', 0.4538072347640991),\n",
       " ('spin', 0.4453708231449127),\n",
       " ('teleportation', 0.4329047203063965)]"
      ]
     },
     "execution_count": 81,
     "metadata": {},
     "output_type": "execute_result"
    }
   ],
   "source": [
    "w2v.wv.most_similar(\"quantum\")"
   ]
  },
  {
   "cell_type": "markdown",
   "id": "945e2a32",
   "metadata": {},
   "source": [
    "Creating LDA2vec next week. Custom/expanded context vector needed for graph relations"
   ]
  },
  {
   "cell_type": "code",
   "execution_count": null,
   "id": "20282566",
   "metadata": {},
   "outputs": [],
   "source": [
    "# model = lda2vec(n_words, max_length, n_hidden, counts)\n",
    "# model.add_component(10000, 40, name='document id')\n",
    "# model.fit(clean, components=[doc_ids])"
   ]
  },
  {
   "cell_type": "markdown",
   "id": "5d9ab1f4",
   "metadata": {},
   "source": [
    "#### Topic Model tSNE"
   ]
  },
  {
   "cell_type": "markdown",
   "id": "6737baf8",
   "metadata": {},
   "source": [
    "Other algorithms to be explored"
   ]
  }
 ],
 "metadata": {
  "kernelspec": {
   "display_name": "Python 3 (ipykernel)",
   "language": "python",
   "name": "python3"
  },
  "language_info": {
   "codemirror_mode": {
    "name": "ipython",
    "version": 3
   },
   "file_extension": ".py",
   "mimetype": "text/x-python",
   "name": "python",
   "nbconvert_exporter": "python",
   "pygments_lexer": "ipython3",
   "version": "3.8.12"
  }
 },
 "nbformat": 4,
 "nbformat_minor": 5
}
